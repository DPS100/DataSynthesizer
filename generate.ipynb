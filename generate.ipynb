{
 "cells": [
  {
   "cell_type": "code",
   "execution_count": 1,
   "metadata": {},
   "outputs": [
    {
     "name": "stderr",
     "output_type": "stream",
     "text": [
      "c:\\Users\\0dps1\\Desktop\\539\\DataSynthesizer\\venv\\Lib\\site-packages\\tqdm\\auto.py:21: TqdmWarning: IProgress not found. Please update jupyter and ipywidgets. See https://ipywidgets.readthedocs.io/en/stable/user_install.html\n",
      "  from .autonotebook import tqdm as notebook_tqdm\n"
     ]
    }
   ],
   "source": [
    "# Imports\n",
    "\n",
    "import io\n",
    "import time\n",
    "import torch\n",
    "\n",
    "from diffusers import DiffusionPipeline\n",
    "from datasets import load_dataset, Dataset"
   ]
  },
  {
   "cell_type": "code",
   "execution_count": 2,
   "metadata": {},
   "outputs": [
    {
     "name": "stderr",
     "output_type": "stream",
     "text": [
      "Loading pipeline components...: 100%|██████████| 7/7 [00:07<00:00,  1.01s/it]\n"
     ]
    },
    {
     "data": {
      "text/plain": [
       "StableDiffusionPipeline {\n",
       "  \"_class_name\": \"StableDiffusionPipeline\",\n",
       "  \"_diffusers_version\": \"0.31.0\",\n",
       "  \"_name_or_path\": \"stable-diffusion-v1-5/stable-diffusion-v1-5\",\n",
       "  \"feature_extractor\": [\n",
       "    \"transformers\",\n",
       "    \"CLIPImageProcessor\"\n",
       "  ],\n",
       "  \"image_encoder\": [\n",
       "    null,\n",
       "    null\n",
       "  ],\n",
       "  \"requires_safety_checker\": true,\n",
       "  \"safety_checker\": [\n",
       "    \"stable_diffusion\",\n",
       "    \"StableDiffusionSafetyChecker\"\n",
       "  ],\n",
       "  \"scheduler\": [\n",
       "    \"diffusers\",\n",
       "    \"PNDMScheduler\"\n",
       "  ],\n",
       "  \"text_encoder\": [\n",
       "    \"transformers\",\n",
       "    \"CLIPTextModel\"\n",
       "  ],\n",
       "  \"tokenizer\": [\n",
       "    \"transformers\",\n",
       "    \"CLIPTokenizer\"\n",
       "  ],\n",
       "  \"unet\": [\n",
       "    \"diffusers\",\n",
       "    \"UNet2DConditionModel\"\n",
       "  ],\n",
       "  \"vae\": [\n",
       "    \"diffusers\",\n",
       "    \"AutoencoderKL\"\n",
       "  ]\n",
       "}"
      ]
     },
     "execution_count": 2,
     "metadata": {},
     "output_type": "execute_result"
    }
   ],
   "source": [
    "pipeline = DiffusionPipeline.from_pretrained(\"stable-diffusion-v1-5/stable-diffusion-v1-5\", torch_dtype=torch.float16)\n",
    "pipeline.to(\"cuda\")"
   ]
  },
  {
   "cell_type": "code",
   "execution_count": 3,
   "metadata": {},
   "outputs": [],
   "source": [
    "# Load the existing dataset from Hugging Face (or create a new one)\n",
    "dataset_name = \"DiegoP-S/DatasetSynthesis\"\n",
    "dataset = load_dataset(dataset_name)\n",
    "existing_data = {key: list(dataset[\"train\"][key]) for key in dataset[\"train\"].features.keys()}\n",
    "\n"
   ]
  },
  {
   "cell_type": "code",
   "execution_count": null,
   "metadata": {},
   "outputs": [
    {
     "name": "stdout",
     "output_type": "stream",
     "text": [
      "Apple\n"
     ]
    },
    {
     "name": "stderr",
     "output_type": "stream",
     "text": [
      "100%|██████████| 50/50 [00:23<00:00,  2.14it/s]\n"
     ]
    },
    {
     "name": "stdout",
     "output_type": "stream",
     "text": [
      "['Apple_generated_image_0.png']\n",
      "Apple\n"
     ]
    },
    {
     "name": "stderr",
     "output_type": "stream",
     "text": [
      " 70%|███████   | 35/50 [00:16<00:06,  2.19it/s]"
     ]
    }
   ],
   "source": [
    "samples_per_class = 100\n",
    "batch_size = 20\n",
    "name = \"fruit\"\n",
    "classes = {\"Apple\", \"Banana\", \"Orange\"}\n",
    "classes_complete = 0\n",
    "start_time = time.time()\n",
    "\n",
    "for class_name in classes:\n",
    "    images_complete = 0\n",
    "    class_start_time = time.time()\n",
    "    for i in range(samples_per_class):\n",
    "        \n",
    "\n",
    "        # Generate the image using the pipeline\n",
    "        print(class_name)\n",
    "        generated_image = pipeline(f\"{class_name} {name}\").images[0]\n",
    "\n",
    "        # Convert the image to a binary format (e.g., PNG)\n",
    "        img_byte_arr = io.BytesIO()\n",
    "        generated_image.save(img_byte_arr, format='PNG')\n",
    "        img_byte_arr = img_byte_arr.getvalue()\n",
    "\n",
    "        # You can now upload the binary data to Hugging Face Dataset\n",
    "        new_data = {\n",
    "            \"file_name\": [f\"{class_name}_generated_image_{i}.png\"],\n",
    "            \"image\": [img_byte_arr]\n",
    "        }\n",
    "\n",
    "        print(new_data[\"file_name\"])\n",
    "\n",
    "        # Append the new data\n",
    "        for key in new_data.keys():\n",
    "            existing_data[key].extend(new_data[key])\n",
    "\n",
    "        images_complete += 1\n",
    "\n",
    "        if i % batch_size == 1:\n",
    "            # Create a new dataset with the updated data\n",
    "            updated_dataset = Dataset.from_dict(existing_data)\n",
    "\n",
    "            # Push the updated dataset to Hugging Face\n",
    "            updated_dataset.push_to_hub(dataset_name)\n",
    "            print(f\"Images complete in class {class_name} ({classes_complete + 1} / {len(classes)}): {images_complete}/{samples_per_class}. Estimated time remaining in class: {samples_per_class / (i) * (time.time() - class_start_time) - (time.time() - class_start_time)}s\")\n",
    "    classes_complete += 1\n",
    "    print(f\"Classes complete: {classes_complete}/{len(classes)}. Estimated time remaining: {len(classes) / classes_complete * (time.time() - start_time) - (time.time() - start_time)}s\")"
   ]
  },
  {
   "cell_type": "code",
   "execution_count": null,
   "metadata": {},
   "outputs": [
    {
     "name": "stdout",
     "output_type": "stream",
     "text": [
      "['apple.png', 'apple.png', 'apple2.png', 'apple_generated_image.png', 'apple_generated_image_1.png', 'TEST.png', 'Apple_generated_image_0.png', 'Banana_generated_image_0.png', 'Orange_generated_image_0.png']\n",
      "['apple.png', 'apple.png', 'apple2.png', 'apple_generated_image.png', 'apple_generated_image_1.png', 'TEST.png', 'Apple_generated_image_0.png', 'Banana_generated_image_0.png', 'Orange_generated_image_0.png']\n"
     ]
    }
   ],
   "source": [
    "for key in existing_data.keys():\n",
    "    print(existing_data['file_name'])"
   ]
  },
  {
   "cell_type": "code",
   "execution_count": null,
   "metadata": {},
   "outputs": [
    {
     "name": "stderr",
     "output_type": "stream",
     "text": [
      "Creating parquet from Arrow format: 100%|██████████| 1/1 [00:00<00:00, 166.64ba/s]\n",
      "Uploading the dataset shards: 100%|██████████| 1/1 [00:01<00:00,  1.89s/it]\n"
     ]
    },
    {
     "name": "stdout",
     "output_type": "stream",
     "text": [
      "Dataset updated: https://huggingface.co/datasets/DiegoP-S/DatasetSynthesis\n"
     ]
    }
   ],
   "source": [
    "# Create a new dataset with the updated data\n",
    "updated_dataset = Dataset.from_dict(existing_data)\n",
    "\n",
    "\n",
    "\n",
    "# Push the updated dataset to Hugging Face\n",
    "updated_dataset.push_to_hub(dataset_name)\n",
    "print(f\"Dataset updated: https://huggingface.co/datasets/{dataset_name}\")"
   ]
  }
 ],
 "metadata": {
  "kernelspec": {
   "display_name": "venv",
   "language": "python",
   "name": "python3"
  },
  "language_info": {
   "codemirror_mode": {
    "name": "ipython",
    "version": 3
   },
   "file_extension": ".py",
   "mimetype": "text/x-python",
   "name": "python",
   "nbconvert_exporter": "python",
   "pygments_lexer": "ipython3",
   "version": "3.12.6"
  }
 },
 "nbformat": 4,
 "nbformat_minor": 2
}
