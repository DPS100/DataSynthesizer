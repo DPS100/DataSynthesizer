{
 "cells": [
  {
   "cell_type": "code",
   "execution_count": 6,
   "metadata": {},
   "outputs": [],
   "source": [
    "# Imports\n",
    "\n",
    "import tensorflow\n",
    "import kagglehub\n",
    "import os\n",
    "import json"
   ]
  },
  {
   "cell_type": "code",
   "execution_count": null,
   "metadata": {},
   "outputs": [],
   "source": [
    "manifest = json.load(open('Datasets/manifest.json'))\n",
    "\n",
    "for target in manifest['targets']:\n",
    "    if(not os.path.isdir(f'Datasets/{target}')):\n",
    "        path = kagglehub.dataset_download(target)\n",
    "        user = target.split('/')[0]\n",
    "        os.makedirs(f'Datasets/{user}', exist_ok=True) # Create user directory\n",
    "        os.rename(path, f'Datasets/{target}')"
   ]
  },
  {
   "cell_type": "code",
   "execution_count": null,
   "metadata": {},
   "outputs": [],
   "source": [
    "kagglehub.dataset_download('lara311/traffic-sign-recognition-yolov8')\n",
    "\n",
    "os.rename('C:\\\\Users\\\\0dps1\\\\.cache\\\\kagglehub\\\\datasets\\\\lara311\\\\traffic-sign-recognition-yolov8\\\\versions\\\\1', '.\\\\Datasets\\\\data1')"
   ]
  }
 ],
 "metadata": {
  "kernelspec": {
   "display_name": "venv",
   "language": "python",
   "name": "python3"
  },
  "language_info": {
   "codemirror_mode": {
    "name": "ipython",
    "version": 3
   },
   "file_extension": ".py",
   "mimetype": "text/x-python",
   "name": "python",
   "nbconvert_exporter": "python",
   "pygments_lexer": "ipython3",
   "version": "3.12.6"
  }
 },
 "nbformat": 4,
 "nbformat_minor": 2
}
