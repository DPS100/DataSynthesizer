{
 "cells": [
  {
   "cell_type": "code",
   "execution_count": 26,
   "metadata": {},
   "outputs": [],
   "source": [
    "# Imports\n",
    "\n",
    "import os\n",
    "import json\n",
    "import kagglehub\n",
    "\n",
    "from datasets import load_dataset"
   ]
  },
  {
   "cell_type": "code",
   "execution_count": 27,
   "metadata": {},
   "outputs": [],
   "source": [
    "# Kaggle datasets\n",
    "\n",
    "manifest = json.load(open('Datasets/manifest.json'))\n",
    "\n",
    "for target in manifest['targets']:\n",
    "    if(not os.path.isdir(f'Datasets/{target}')):\n",
    "        path = kagglehub.dataset_download(target)\n",
    "        user = target.split('/')[0]\n",
    "        os.makedirs(f'Datasets/{user}', exist_ok=True) # Create user directory\n",
    "        os.rename(path, f'Datasets/{target}')"
   ]
  },
  {
   "cell_type": "code",
   "execution_count": 28,
   "metadata": {},
   "outputs": [
    {
     "name": "stderr",
     "output_type": "stream",
     "text": [
      "Generating train split: 100%|██████████| 9/9 [00:00<00:00, 473.75 examples/s]"
     ]
    },
    {
     "name": "stdout",
     "output_type": "stream",
     "text": [
      "Saved: Datasets/DiegoP-S/DatasetSynthesis\\apple.png\n",
      "Saved: Datasets/DiegoP-S/DatasetSynthesis\\apple.png\n",
      "Saved: Datasets/DiegoP-S/DatasetSynthesis\\apple2.png\n",
      "Saved: Datasets/DiegoP-S/DatasetSynthesis\\apple_generated_image.png\n",
      "Saved: Datasets/DiegoP-S/DatasetSynthesis\\apple_generated_image_1.png\n",
      "Saved: Datasets/DiegoP-S/DatasetSynthesis\\TEST.png\n",
      "Saved: Datasets/DiegoP-S/DatasetSynthesis\\Apple_generated_image_0.png\n",
      "Saved: Datasets/DiegoP-S/DatasetSynthesis\\Banana_generated_image_0.png\n",
      "Saved: Datasets/DiegoP-S/DatasetSynthesis\\Orange_generated_image_0.png\n"
     ]
    },
    {
     "name": "stderr",
     "output_type": "stream",
     "text": [
      "\n"
     ]
    }
   ],
   "source": [
    "# Huggingface synthetic datasets\n",
    "\n",
    "dataset_name = \"DiegoP-S/DatasetSynthesis\"\n",
    "\n",
    "# Load the dataset from the Hub\n",
    "dataset = load_dataset(dataset_name)\n",
    "\n",
    "# Specify the output directory where images will be saved\n",
    "output_dir = f\"Datasets/{dataset_name}\"\n",
    "os.makedirs(output_dir, exist_ok=True)\n",
    "\n",
    "# Extract the image data and file names\n",
    "image_data = dataset[\"train\"][\"image\"]  # List of image binary data\n",
    "file_names = dataset[\"train\"][\"file_name\"]  # List of file names (e.g., 'apple.png')\n",
    "\n",
    "# Save the images locally\n",
    "for file_name, img_data in zip(file_names, image_data):\n",
    "    if img_data:  # Only save if the image data exists\n",
    "        try:\n",
    "            # Construct the output file path\n",
    "            file_path = os.path.join(output_dir, file_name)\n",
    "            \n",
    "            # Write the binary image data to the file\n",
    "            with open(file_path, \"wb\") as img_file:\n",
    "                img_file.write(img_data)\n",
    "            \n",
    "            print(f\"Saved: {file_path}\")\n",
    "        except Exception as e:\n",
    "            print(f\"Error saving {file_name}: {e}\")\n",
    "    else:\n",
    "        print(f\"Skipping {file_name} due to missing image data.\")\n"
   ]
  },
  {
   "cell_type": "code",
   "execution_count": 29,
   "metadata": {},
   "outputs": [
    {
     "name": "stdout",
     "output_type": "stream",
     "text": [
      "Number of records in dataset on Hub: 9\n"
     ]
    }
   ],
   "source": [
    "# Reload the dataset from the hub to check if updates were successful\n",
    "try:\n",
    "    updated_dataset_on_hub = load_dataset(dataset_name)\n",
    "    print(f\"Number of records in dataset on Hub: {len(updated_dataset_on_hub['train'])}\")\n",
    "except Exception as e:\n",
    "    print(f\"Error verifying dataset on Hub: {e}\")"
   ]
  }
 ],
 "metadata": {
  "kernelspec": {
   "display_name": "venv",
   "language": "python",
   "name": "python3"
  },
  "language_info": {
   "codemirror_mode": {
    "name": "ipython",
    "version": 3
   },
   "file_extension": ".py",
   "mimetype": "text/x-python",
   "name": "python",
   "nbconvert_exporter": "python",
   "pygments_lexer": "ipython3",
   "version": "3.12.6"
  }
 },
 "nbformat": 4,
 "nbformat_minor": 2
}
